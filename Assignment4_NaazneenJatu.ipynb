{
 "cells": [
  {
   "cell_type": "markdown",
   "metadata": {},
   "source": [
    "# Assignment 3 / Naazneen Jatu"
   ]
  },
  {
   "cell_type": "code",
   "execution_count": 1,
   "metadata": {},
   "outputs": [
    {
     "name": "stdout",
     "output_type": "stream",
     "text": [
      "Requirement already satisfied: pandas in c:\\users\\amd\\appdata\\local\\programs\\python\\python37-32\\lib\\site-packages (0.25.1)\n",
      "Requirement already satisfied: python-dateutil>=2.6.1 in c:\\users\\amd\\appdata\\local\\programs\\python\\python37-32\\lib\\site-packages (from pandas) (2.8.0)\n",
      "Requirement already satisfied: numpy>=1.13.3 in c:\\users\\amd\\appdata\\local\\programs\\python\\python37-32\\lib\\site-packages (from pandas) (1.17.0)\n",
      "Requirement already satisfied: pytz>=2017.2 in c:\\users\\amd\\appdata\\local\\programs\\python\\python37-32\\lib\\site-packages (from pandas) (2019.1)\n",
      "Requirement already satisfied: six>=1.5 in c:\\users\\amd\\appdata\\local\\programs\\python\\python37-32\\lib\\site-packages (from python-dateutil>=2.6.1->pandas) (1.12.0)\n",
      "Note: you may need to restart the kernel to use updated packages.\n"
     ]
    },
    {
     "name": "stderr",
     "output_type": "stream",
     "text": [
      "WARNING: You are using pip version 19.2.2, however version 19.2.3 is available.\n",
      "You should consider upgrading via the 'python -m pip install --upgrade pip' command.\n"
     ]
    }
   ],
   "source": [
    "pip install pandas"
   ]
  },
  {
   "cell_type": "code",
   "execution_count": 2,
   "metadata": {},
   "outputs": [
    {
     "name": "stdout",
     "output_type": "stream",
     "text": [
      "Requirement already satisfied: openpyxl in c:\\users\\amd\\appdata\\local\\programs\\python\\python37-32\\lib\\site-packages (3.0.0)\n",
      "Requirement already satisfied: jdcal in c:\\users\\amd\\appdata\\local\\programs\\python\\python37-32\\lib\\site-packages (from openpyxl) (1.4.1)\n",
      "Requirement already satisfied: et_xmlfile in c:\\users\\amd\\appdata\\local\\programs\\python\\python37-32\\lib\\site-packages (from openpyxl) (1.0.1)\n",
      "Note: you may need to restart the kernel to use updated packages.\n"
     ]
    },
    {
     "name": "stderr",
     "output_type": "stream",
     "text": [
      "WARNING: You are using pip version 19.2.2, however version 19.2.3 is available.\n",
      "You should consider upgrading via the 'python -m pip install --upgrade pip' command.\n"
     ]
    }
   ],
   "source": [
    "pip install openpyxl"
   ]
  },
  {
   "cell_type": "code",
   "execution_count": 4,
   "metadata": {},
   "outputs": [
    {
     "name": "stdout",
     "output_type": "stream",
     "text": [
      "Enter path of directory containing all excel files \n",
      "(sample path = 'Drive:\\\\Dir\\\\SubDir')\n",
      "D:\\Naazneen\\SugyanTech\\mydir\n",
      "output file created successfully.\n"
     ]
    }
   ],
   "source": [
    "import pandas as pd\n",
    "import os\n",
    "import pandas as pd\n",
    "import openpyxl\n",
    "\n",
    "#taking input path\n",
    "path = input(\"Enter path of directory containing all excel files \\n(sample path = 'Drive:\\\\\\Dir\\\\\\SubDir')\\n\")\n",
    "\n",
    "#getting file names\n",
    "files = []\n",
    "for filename in (os.listdir(path)):\n",
    "    files.append(filename)\n",
    "\n",
    "# reading excel data\n",
    "excels = []\n",
    "for name in files:\n",
    "    excels.append(pd.ExcelFile(path + '\\\\'+name))\n",
    "\n",
    "#making them dataframes\n",
    "frames = []\n",
    "for x in excels:\n",
    "    frames.append(x.parse(x.sheet_names[0], header=None,index_col=None))\n",
    "\n",
    "\n",
    "#removing first row of all frames except the first frame [1:].\n",
    "#(So header is not repeated)\n",
    "frames[1:] = [f[1:] for f in frames[1:]]\n",
    "\n",
    "#Merging them \n",
    "merged = pd.concat(frames)\n",
    "\n",
    "#writing new excel\n",
    "#(header is false, because it is added as first row of first frame)\n",
    "merged.to_excel(\"output.xlsx\", header=False, index=False)\n",
    "print (\"output file created successfully.\")"
   ]
  },
  {
   "cell_type": "code",
   "execution_count": null,
   "metadata": {},
   "outputs": [],
   "source": []
  }
 ],
 "metadata": {
  "kernelspec": {
   "display_name": "Python 3",
   "language": "python",
   "name": "python3"
  },
  "language_info": {
   "codemirror_mode": {
    "name": "ipython",
    "version": 3
   },
   "file_extension": ".py",
   "mimetype": "text/x-python",
   "name": "python",
   "nbconvert_exporter": "python",
   "pygments_lexer": "ipython3",
   "version": "3.7.4"
  }
 },
 "nbformat": 4,
 "nbformat_minor": 2
}
